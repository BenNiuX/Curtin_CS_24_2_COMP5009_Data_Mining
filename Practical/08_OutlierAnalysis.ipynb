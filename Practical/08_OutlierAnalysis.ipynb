{
  "nbformat": 4,
  "nbformat_minor": 0,
  "metadata": {
    "colab": {
      "provenance": []
    },
    "kernelspec": {
      "name": "python3",
      "display_name": "Python 3"
    },
    "language_info": {
      "name": "python"
    }
  },
  "cells": [
    {
      "cell_type": "markdown",
      "source": [
        "# Prac 07\n",
        "In this prac we will look at a few examples of outlier analysis."
      ],
      "metadata": {
        "id": "SHvVgRRi5VIu"
      }
    },
    {
      "cell_type": "code",
      "metadata": {
        "id": "R-a7hrlu8bRM"
      },
      "source": [
        "%matplotlib inline\n",
        "import matplotlib\n",
        "import matplotlib.pyplot as plt\n",
        "import numpy as np\n",
        "import pandas as pd\n",
        "import sklearn"
      ],
      "execution_count": null,
      "outputs": []
    },
    {
      "cell_type": "markdown",
      "metadata": {
        "id": "Sit3iRNHe1DY"
      },
      "source": [
        "# Q1 Extreme Value Analysis\n",
        "\n",
        "1. Load the breast cancer data set.\n",
        "1. Select the 'mean area' attribute and:\n",
        "  - Compute the mean and standard deviation\n",
        "  - Compute he z-score for each item\n",
        "  - Identify extreme values as those with |z|>3\n",
        "  - count and list the outlier values.\n",
        "  - Plot a historgram of this attribute"
      ]
    },
    {
      "cell_type": "markdown",
      "metadata": {
        "id": "pvlJPPL18jEQ"
      },
      "source": [
        "## Load data\n",
        "\n",
        "The breast cancer data set is bundled with skelarn.\n",
        "You can access it via `sklearn.datasets.load_breast_cancer`.\n",
        "Inspect the `.data`, `.DESC`, and `.feature_names` attribute for more information."
      ]
    },
    {
      "cell_type": "code",
      "metadata": {
        "id": "4vHtKDdipQCV"
      },
      "source": [
        "from sklearn.datasets import load_breast_cancer\n",
        "data = load_breast_cancer()\n",
        "df = pd.DataFrame(data.data, columns=?)"
      ],
      "execution_count": null,
      "outputs": []
    },
    {
      "cell_type": "markdown",
      "metadata": {
        "id": "8FooFD1F82sK"
      },
      "source": [
        "## Select the 'mean area' attribute\n",
        "\n",
        "Select the 'mean area' attribute and:\n",
        "  - Compute the mean and standard deviation\n",
        "  - Compute he z-score for each item\n",
        "  - Identify extreme values as those with |z|>3\n",
        "  - count and list the outlier values.\n",
        "  - Plot a historgram of this attribute\n"
      ]
    },
    {
      "cell_type": "code",
      "metadata": {
        "id": "F1GiIEOppcJU"
      },
      "source": [
        "zscore = ?\n",
        "\n",
        "lower_extreme = df['mean area'].iloc[np.where(zscore < -3)]\n",
        "upper_extreme = df['mean area'].iloc[np.where(zscore > 3)]\n",
        "\n",
        "# Count the extreme values\n",
        "print(f\"There are {len(lower_extreme)} lower extreme values\")\n",
        "print(f\"There are {len(upper_extreme)} upper extreme values\")"
      ],
      "execution_count": null,
      "outputs": []
    },
    {
      "cell_type": "code",
      "source": [
        "# list the outlier values\n",
        "print(f\"lower extreme values are: {lower_extreme.values}\")\n",
        "print(f\"upper extreme values are: {upper_extreme.values}\")"
      ],
      "metadata": {
        "id": "B_UiyuRZaYXb"
      },
      "execution_count": null,
      "outputs": []
    },
    {
      "cell_type": "code",
      "metadata": {
        "id": "Xb0xcEhF8AYr"
      },
      "source": [
        "# plot a hisogram of the attribute\n",
        "df['mean area'].plot(?)"
      ],
      "execution_count": null,
      "outputs": []
    },
    {
      "cell_type": "markdown",
      "metadata": {
        "id": "kcA0HpUPRrNI"
      },
      "source": [
        "# Q2 Distance based model (LOF)\n",
        "Use the LOF algorithm to determine the outlier factor scores for a synthetic data set.\n",
        "- Generate the dataset\n",
        "- initiate a `LocalOutlierFactor` classifier with `n_neighbors=3`\n",
        "- visualize the LOF scores for each data point\n",
        "- Plot an ROC for the LOF with 3 neighbors.\n",
        "- change `n_neighbors` to be between 3 and 10 and replot. Comment on the difference.\n"
      ]
    },
    {
      "cell_type": "code",
      "metadata": {
        "id": "lBuyF-wuH7Ig"
      },
      "source": [
        "from sklearn.neighbors import LocalOutlierFactor"
      ],
      "execution_count": null,
      "outputs": []
    },
    {
      "cell_type": "code",
      "metadata": {
        "id": "awGZzafUQH0i"
      },
      "source": [
        "# Generate train data\n",
        "X_inliers = 0.3 * np.random.randn(100, 2)\n",
        "X_inliers = np.r_[X_inliers + 2, X_inliers - 2]\n",
        "\n",
        "# Generate some outliers\n",
        "X_outliers = np.random.uniform(low=-4, high=4, size=(20, 2))\n",
        "X = np.r_[X_inliers, X_outliers]\n",
        "y = np.ones(shape=X.shape[0], dtype=bool)\n",
        "# y == True for inliers, False for outliers\n",
        "y[-len(X_outliers):] = False"
      ],
      "execution_count": null,
      "outputs": []
    },
    {
      "cell_type": "code",
      "metadata": {
        "id": "EE5KSIUwPFTC"
      },
      "source": [
        "lof = LocalOutlierFactor(n_neighbors=?)"
      ],
      "execution_count": null,
      "outputs": []
    },
    {
      "cell_type": "code",
      "metadata": {
        "id": "yB4W8cIYRLLk"
      },
      "source": [
        "yhat = lof.fit_predict(X)>0 # True -> inlier, False -> outlier\n",
        "X_scores = lof.negative_outlier_factor_"
      ],
      "execution_count": null,
      "outputs": []
    },
    {
      "cell_type": "code",
      "metadata": {
        "id": "dV7EJ_1NQmcC"
      },
      "source": [
        "# From sklearn user guide\n",
        "fig, ax = plt.subplots(1,1)\n",
        "ax.set_title(\"Local Outlier Factor (LOF)\")\n",
        "ax.scatter(X[:, 0], X[:, 1], color='k', s=3., label='Data points')\n",
        "# plot circles with radius proportional to the outlier scores\n",
        "radius = (X_scores.max() - X_scores) / (X_scores.max() - X_scores.min())\n",
        "mask = np.where(yhat)\n",
        "ax.scatter(X[:, 0][mask], X[:, 1][mask], s=1000 * radius[mask], edgecolors='r',\n",
        "            facecolors='none', label='Inliers')\n",
        "mask = np.where(~yhat)\n",
        "ax.scatter(X[:, 0][mask], X[:, 1][mask], s=1000 * radius[mask], edgecolors='b',\n",
        "            facecolors='none', label='Outliers')\n",
        "#ax.set_xlabel(\"prediction errors: %d\" % (n_errors))\n",
        "legend = ax.legend(loc='upper left')\n",
        "for lh in legend.legendHandles:\n",
        "  lh._sizes = [20]\n",
        "plt.show()"
      ],
      "execution_count": null,
      "outputs": []
    },
    {
      "cell_type": "markdown",
      "source": [
        "In the above, notice the outliers (blue), that are overlapping with the inliers (red).\n",
        "This would indicate that we are not doing a good job, and should probably increase the `n_neighbours` parameter."
      ],
      "metadata": {
        "id": "eYlHKcZ16fdo"
      }
    },
    {
      "cell_type": "code",
      "metadata": {
        "id": "TSazE5g9Q55U"
      },
      "source": [
        "from sklearn.metrics import roc_curve, auc\n",
        "fpr, tpr, thresholds = roc_curve() # use our known labels, and the outlier scores\n",
        "roc_auc = auc(fpr, tpr)"
      ],
      "execution_count": null,
      "outputs": []
    },
    {
      "cell_type": "code",
      "metadata": {
        "id": "ppu81Sv5TmMk"
      },
      "source": [
        "# plot the ROC curve.\n",
        "def plot_ROC(fpr, tpr, roc_auc):\n",
        "  lw = 2\n",
        "  fig, ax = plt.subplots(1,1)\n",
        "  ax.plot(fpr, tpr, color='darkorange',\n",
        "          lw=lw, label=f'ROC curve (area = {roc_auc:.2f})')\n",
        "  ax.plot([0, 1], [0, 1], color='navy', lw=lw, linestyle='--', label='Random chance')\n",
        "  ax.set_xlim([0.0, 1.0])\n",
        "  ax.set_ylim([0.0, 1.05])\n",
        "  ax.set_xlabel('False Positive Rate')\n",
        "  ax.set_ylabel('True Positive Rate')\n",
        "  ax.set_title('Receiver operating characteristic example')\n",
        "  ax.legend(loc=\"lower right\")\n",
        "  plt.show()"
      ],
      "execution_count": null,
      "outputs": []
    },
    {
      "cell_type": "code",
      "source": [
        "plot_ROC(fpr, tpr, roc_auc)"
      ],
      "metadata": {
        "id": "yvrWq6zs9HoF"
      },
      "execution_count": null,
      "outputs": []
    },
    {
      "cell_type": "markdown",
      "source": [
        "Now we see how our ROC curve changes as we modify the value of `n_neighbours`."
      ],
      "metadata": {
        "id": "PSzsUmjl8RI_"
      }
    },
    {
      "cell_type": "code",
      "source": [
        "fig, ax =plt.subplots(1,1, figsize=(12,8))\n",
        "\n",
        "lw = 2\n",
        "for k  in range(3,10,2):\n",
        "  lof = LocalOutlierFactor(n_neighbors=k)\n",
        "  yhat = lof.fit_predict(X)>0 # True -> inlier, False -> outlier\n",
        "  X_scores = lof.negative_outlier_factor_\n",
        "  fpr, tpr, thresholds = roc_curve(y,X_scores)\n",
        "  roc_auc = auc(fpr, tpr)\n",
        "  ax.plot(fpr, tpr,\n",
        "          lw=lw, label=f'k={k}, area = {roc_auc:.2f}')\n",
        "\n",
        "ax.plot([0, 1], [0, 1], color='navy', lw=lw, linestyle='--', label='Random chance')\n",
        "ax.set_xlim([0.0, 1.0])\n",
        "ax.set_ylim([0.0, 1.05])\n",
        "ax.set_xlabel('False Positive Rate')\n",
        "ax.set_ylabel('True Positive Rate')\n",
        "ax.set_title('Receiver operating characteristic example')\n",
        "ax.legend(loc=\"lower right\")\n",
        "\n"
      ],
      "metadata": {
        "id": "VkF1Liei6sJs"
      },
      "execution_count": null,
      "outputs": []
    },
    {
      "cell_type": "markdown",
      "metadata": {
        "id": "LrT8tRVVepyQ"
      },
      "source": [
        "# Q3 Probabalistic model - Gaussian Mixture\n",
        "\n",
        "Create a gaussian mixture model with 3 components\n",
        "- fit the model with the data\n",
        "- generate outlier scores for each data point\n",
        "- visualise the model\n",
        "- plot an ROC for this model"
      ]
    },
    {
      "cell_type": "code",
      "metadata": {
        "id": "gQfiJ0MDV5xs"
      },
      "source": [
        "from sklearn import mixture\n",
        "gmm = mixture.GaussianMixture(?)"
      ],
      "execution_count": null,
      "outputs": []
    },
    {
      "cell_type": "code",
      "metadata": {
        "id": "Qc0JDn2wZvpP"
      },
      "source": [
        "y_hat = gmm.fit_predict(X)\n",
        "X_probs = gmm.score_samples(X)"
      ],
      "execution_count": null,
      "outputs": []
    },
    {
      "cell_type": "code",
      "metadata": {
        "id": "Mw20Ddo5cG4d"
      },
      "source": [
        "# From https://scikit-learn.org/stable/auto_examples/mixture/plot_gmm.html#sphx-glr-auto-examples-mixture-plot-gmm-py\n",
        "from scipy import linalg\n",
        "import itertools\n",
        "color_iter = itertools.cycle(['navy', 'darkorange','red']])\n",
        "\n",
        "def plot_results(X, Y_, means, covariances):\n",
        "    fig, ax = plt.subplots(1, 1)\n",
        "    for i, (mean, covar, color) in enumerate(zip(\n",
        "            means, covariances, color_iter)):\n",
        "        v, w = linalg.eigh(covar)\n",
        "        v = 2. * np.sqrt(2.) * np.sqrt(v)\n",
        "        u = w[0] / linalg.norm(w[0])\n",
        "        # as the DP will not use every component it has access to\n",
        "        # unless it needs it, we shouldn't plot the redundant\n",
        "        # components.\n",
        "        if not np.any(Y_ == i):\n",
        "            continue\n",
        "        plt.scatter(X[Y_ == i, 0], X[Y_ == i, 1], color=color)\n",
        "\n",
        "        # Plot an ellipse to show the Gaussian component\n",
        "        angle = np.arctan(u[1] / u[0])\n",
        "        angle = 180. * angle / np.pi  # convert to degrees\n",
        "        ell = matplotlib.patches.Ellipse(mean, v[0], v[1], 180. + angle, color=color)\n",
        "        ell.set_clip_box(ax.bbox)\n",
        "        ell.set_alpha(0.5)\n",
        "        ax.add_artist(ell)\n",
        "\n",
        "    #ax.set_xlim(-9., 5.)\n",
        "    #ax.set_ylim(-3., 6.)\n",
        "    #plt.xticks(())\n",
        "    #plt.yticks(())\n",
        "    plt.show()\n",
        "    return"
      ],
      "execution_count": null,
      "outputs": []
    },
    {
      "cell_type": "code",
      "metadata": {
        "id": "wQhRbe4rdGi7"
      },
      "source": [
        "plot_results(X, gmm.predict(X), gmm.means_, gmm.covariances_)"
      ],
      "execution_count": null,
      "outputs": []
    },
    {
      "cell_type": "code",
      "metadata": {
        "id": "F5wmzSLQZ2kl"
      },
      "source": [
        "# compute the fpr, tpr, and threshold values for this model\n",
        "fpr, tpr, thresholds = roc_curve(y,X_probs)\n",
        "roc_auc = auc(fpr, tpr)\n",
        "plot_ROC(fpr, tpr, roc_auc)"
      ],
      "execution_count": null,
      "outputs": []
    },
    {
      "cell_type": "markdown",
      "metadata": {
        "id": "VmZGzsZJmSsJ"
      },
      "source": [
        "# Q4 Density based model\n",
        "Select the KernelDesnsity estimator:\n",
        "- use a kernel of 'linear' with a `bandwidth`=0.1\n",
        "- fit the model\n",
        "- predict probabilities for X\n",
        "- compute and plot the ROC\n",
        "- experiment with other kernels to see which gives a better AUC:\n",
        "  - tophat\n",
        "  - gaussian\n",
        "  - exponential\n",
        "- adjust the bandwidth parameter and note it's affects on the ROC.  "
      ]
    },
    {
      "cell_type": "code",
      "metadata": {
        "id": "nTbdPqKsmvuN"
      },
      "source": [
        "from sklearn.neighbors import KernelDensity\n",
        "kde = KernelDensity(?)"
      ],
      "execution_count": null,
      "outputs": []
    },
    {
      "cell_type": "code",
      "metadata": {
        "id": "dmW1-I_lm1FW"
      },
      "source": [
        "kde.fit(X)"
      ],
      "execution_count": null,
      "outputs": []
    },
    {
      "cell_type": "code",
      "metadata": {
        "id": "-3prLiF_m2Mp"
      },
      "source": [
        "X_probs = kde.score_samples(X)"
      ],
      "execution_count": null,
      "outputs": []
    },
    {
      "cell_type": "code",
      "metadata": {
        "id": "S3vlAuS3m6NZ"
      },
      "source": [
        "fpr, tpr, thresholds = roc_curve(?)\n",
        "roc_auc = auc(fpr, tpr)\n",
        "plot_ROC(fpr, tpr, roc_auc)"
      ],
      "execution_count": null,
      "outputs": []
    }
  ]
}