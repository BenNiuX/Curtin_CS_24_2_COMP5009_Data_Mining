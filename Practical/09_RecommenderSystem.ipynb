{
  "nbformat": 4,
  "nbformat_minor": 0,
  "metadata": {
    "colab": {
      "provenance": []
    },
    "kernelspec": {
      "name": "python3",
      "display_name": "Python 3"
    },
    "language_info": {
      "name": "python"
    }
  },
  "cells": [
    {
      "cell_type": "markdown",
      "metadata": {
        "id": "RgRtde1CEPIR"
      },
      "source": [
        "# Prac 08\n",
        "In this prac we will be building a recommender system for movies."
      ]
    },
    {
      "cell_type": "markdown",
      "metadata": {
        "id": "hGhyUhF7Eddd"
      },
      "source": [
        "# Q1\n",
        "Using the [MovieLens](https://grouplens.org/datasets/movielens/) (small) data set complete the following:\n",
        "- Download the [ml-latest-small](https://files.grouplens.org/datasets/movielens/ml-latest-small.zip) data file. Unzip, and then upload the files 'movies.csv' and 'ratings.csv' to the Google Colab\n",
        "- Load the movies and ratings into a pandas data frame, and inspect the data\n",
        "- Convert the ratings dataframe into a utility matrix using `df.pivot`, and inspect the matrix.\n",
        "- Select a user from the utility matrix that we will recommend a movie for\n",
        "- Predict the rating of a movie they have not seen using a user-based approach\n",
        "- Predict the ratings of all unseen movies and recommend the top 10"
      ]
    },
    {
      "cell_type": "code",
      "metadata": {
        "id": "7fW1TNdojTEG"
      },
      "source": [
        "%matplotlib inline\n",
        "import numpy as np\n",
        "import pandas as pd\n",
        "import sklearn"
      ],
      "execution_count": null,
      "outputs": []
    },
    {
      "cell_type": "markdown",
      "metadata": {
        "id": "5GyTFRJaWebI"
      },
      "source": [
        "## Download data\n",
        "Download the [ml-latest-small](https://files.grouplens.org/datasets/movielens/ml-latest-small.zip) data file. Unzip, and then upload the files 'movies.csv' and 'ratings.csv' to the Google Colab\n",
        "\n",
        "Since the data is in a .zip file it's probably easiest to just use some bash tools to download and extract the files directly into the colab area."
      ]
    },
    {
      "cell_type": "code",
      "metadata": {
        "id": "add_aCW8GgQn"
      },
      "source": [
        "! [[ -e ml-latest-small.zip ]] || $(wget https://files.grouplens.org/datasets/movielens/ml-latest-small.zip; unzip ml-latest-small.zip)"
      ],
      "execution_count": null,
      "outputs": []
    },
    {
      "cell_type": "markdown",
      "metadata": {
        "id": "3dOYZfZMWun3"
      },
      "source": [
        "## Load the data\n",
        "Load the movies and ratings into a pandas data frame, and inspect the data."
      ]
    },
    {
      "cell_type": "code",
      "metadata": {
        "id": "kf4HxSvsmOsl"
      },
      "source": [
        "# load the movies data\n",
        "movies_df = pd.read_csv(?)\n",
        "movies_df.head()"
      ],
      "execution_count": null,
      "outputs": []
    },
    {
      "cell_type": "code",
      "metadata": {
        "id": "MeDKjZGwmTmg"
      },
      "source": [
        "# load the ratings data\n",
        "ratings_df = pd.read_csv(?).drop(columns='timestamp')\n",
        "ratings_df.head()"
      ],
      "execution_count": null,
      "outputs": []
    },
    {
      "cell_type": "markdown",
      "metadata": {
        "id": "DGm1EQaMW5AW"
      },
      "source": [
        "## Create a utility matrix\n",
        "Convert the ratings dataframe into a utility matrix using `df.pivot`, and inspect the matrix.\n",
        "- Make the matrix smaller by selecting only movies with more than 50 ratings, and users who have rated more than 50 movies"
      ]
    },
    {
      "cell_type": "code",
      "metadata": {
        "id": "FEdxQf36mhHw"
      },
      "source": [
        "# convert ratings table into a utility matrix\n",
        "utility = ratings_df.pivot(index=?,\n",
        "                           columns=?,\n",
        "                           values=?)\n",
        "utility.tail()"
      ],
      "execution_count": null,
      "outputs": []
    },
    {
      "cell_type": "code",
      "source": [
        "users_gt_50 = utility.count(axis='columns') > ?\n",
        "movies_gt_50 = utility.count(axis='index') > ?"
      ],
      "metadata": {
        "id": "zN8hl9Yfl2CT"
      },
      "execution_count": null,
      "outputs": []
    },
    {
      "cell_type": "code",
      "source": [
        "utility_sm = utility.loc[users_gt_50, movies_gt_50]\n",
        "utility_sm"
      ],
      "metadata": {
        "id": "Y77zlTeSl2tK"
      },
      "execution_count": null,
      "outputs": []
    },
    {
      "cell_type": "markdown",
      "metadata": {
        "id": "LaQuT-YbX_iN"
      },
      "source": [
        "## Select a user\n",
        "Select a user from the utility matrix that we will recommend a movie for.\n",
        "\n",
        "I recommend chosing user 605 in the above list."
      ]
    },
    {
      "cell_type": "code",
      "metadata": {
        "id": "3GeA15G_sUHN"
      },
      "source": [
        "User1 = utility.loc[?]"
      ],
      "execution_count": null,
      "outputs": []
    },
    {
      "cell_type": "markdown",
      "metadata": {
        "id": "iFD0Zk7kYS6i"
      },
      "source": [
        "## Predict the rating of a movie\n",
        "Predict the rating of a movie they have not seen using a user-based approach\n",
        "- use a similarity score of `0.8` to select similar users\n",
        "- predict the rating for movie with `id=7`"
      ]
    },
    {
      "cell_type": "code",
      "metadata": {
        "id": "PdLbf9CkwDmB"
      },
      "source": [
        "# using row1.corr(row2) we calculate the pearson correlation function between users\n",
        "def corrUser(row):\n",
        "  if User1.equals(row): # For later implementation we don't want to compare a user to themselves.\n",
        "    return 0            # Instead of skipping them we just set the correlation to zero.\n",
        "  return User1.corr(row)"
      ],
      "execution_count": null,
      "outputs": []
    },
    {
      "cell_type": "code",
      "metadata": {
        "id": "5A0WiXq3vkSj"
      },
      "source": [
        "# now compute all the similarities\n",
        "similarities = utility.apply(corrUser,\n",
        "                             axis=1)"
      ],
      "execution_count": null,
      "outputs": []
    },
    {
      "cell_type": "code",
      "metadata": {
        "id": "URbcPjM7S2ci"
      },
      "source": [
        "threshold=?\n",
        "peers_id = utility.index[similarities>threshold]\n",
        "print(f\"There are {len(peers_id)} similar users\")"
      ],
      "execution_count": null,
      "outputs": []
    },
    {
      "cell_type": "code",
      "metadata": {
        "id": "fx8WSHowx7cI"
      },
      "source": [
        "utility.loc[peers_id]"
      ],
      "execution_count": null,
      "outputs": []
    },
    {
      "cell_type": "markdown",
      "source": [
        "Predicted score is\n",
        "$\\frac{\\sum( S_i * x_i) }{ \\sum (S_i)}$\n",
        "where $S_i$ is the similarity score and $x_i$ is the user rating."
      ],
      "metadata": {
        "id": "2x8YRIPW8X6R"
      }
    },
    {
      "cell_type": "code",
      "metadata": {
        "id": "wXr7EJXty7jp"
      },
      "source": [
        "# Compute the average of similar user scores for movie with id=7\n",
        "mid = ?\n",
        "numerator = np.sum(similarities[peers_id] * utility.loc[peers_id, mid])\n",
        "denomenator = np.sum( similarities[peers_id] * (utility.loc[peers_id, mid] > 0) ) # the >0 returns true/false which is interpreted as 1/0, and acts as a mask\n",
        "predicted_score = numerator / denomenator\n",
        "predicted_score"
      ],
      "execution_count": null,
      "outputs": []
    },
    {
      "cell_type": "markdown",
      "metadata": {
        "id": "6m_676JfgAIL"
      },
      "source": [
        "## Select top 10 predictions\n",
        "Predict the ratings of all unseen movies and recommend the top 10\n",
        "- Use the above to write a function to predict the score for all the movies\n",
        "- sort the predictions and choose the top 10\n",
        "- report the predicted score and names of the top 10 movies"
      ]
    },
    {
      "cell_type": "code",
      "metadata": {
        "id": "3-04nH0WTGM3"
      },
      "source": [
        "def predict_scores(peers, utility):\n",
        "  \"\"\"\n",
        "  Predict the score for all unseen movies.\n",
        "  Peers should list the userid for all the similar users.\n",
        "  Utility should be a utility matrix.\n",
        "\n",
        "  Returns a dict of {movieId:score}\n",
        "  \"\"\"\n",
        "  scores = {}\n",
        "  for movie in utility.columns:\n",
        "    if np.isnan(User1[movie]):     # only predict scores for unseen movies\n",
        "      numerator = np.sum(similarities[peers_id] * utility.loc[peers_id, movie])\n",
        "      denomenator = np.sum( similarities[peers_id] * (utility.loc[peers_id, movie] > 0) )\n",
        "      predicted_score = numerator / denomenator\n",
        "      if not np.isnan(predicted_score):  # don't record predictions of nan\n",
        "        scores[movie] = predicted_score\n",
        "  return scores"
      ],
      "execution_count": null,
      "outputs": []
    },
    {
      "cell_type": "code",
      "metadata": {
        "id": "7hnikrfzTqLf"
      },
      "source": [
        "# compute the predicted scores\n",
        "predictions = predict_scores(peers_id,\n",
        "                             utility)"
      ],
      "execution_count": null,
      "outputs": []
    },
    {
      "cell_type": "code",
      "metadata": {
        "id": "dWrj2quZUFxe"
      },
      "source": [
        "# choose the top10 movieIds\n",
        "top_10 = sorted(predictions,\n",
        "                key=predictions.get, # sort based on the value not the key\n",
        "                reverse=True, # reverse means hightest first\n",
        "                )[:?]  # choose first 10\n",
        "top_10"
      ],
      "execution_count": null,
      "outputs": []
    },
    {
      "cell_type": "code",
      "metadata": {
        "id": "7_CKwYDc1ctc"
      },
      "source": [
        "# Display a nice table of results\n",
        "print(\"Pred \\t| Movie\")\n",
        "print(\"--------------\")\n",
        "for movie in top_10:\n",
        "  # extract the movie name from the movies_df\n",
        "  name = movies_df['title'][movies_df['movieId']==movie].values[0]\n",
        "  print(f\"{predictions[movie]:3.1f}\\t| {name}\")"
      ],
      "execution_count": null,
      "outputs": []
    }
  ]
}